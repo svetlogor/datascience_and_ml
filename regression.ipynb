{
 "cells": [
  {
   "cell_type": "markdown",
   "metadata": {
    "colab_type": "text",
    "id": "PUKhp1trexyM"
   },
   "source": [
    "# Регрессия\n",
    "\n",
    "Примим градиентный спуск к для прогнозирования цен на недвижимость в Бостоне. Выясним какое качества на валидации удалось достичь по r2-score и сколько итераций понадобится."
   ]
  },
  {
   "cell_type": "code",
   "execution_count": 3,
   "metadata": {
    "colab": {},
    "colab_type": "code",
    "id": "-yMnV1YZexyQ"
   },
   "outputs": [],
   "source": [
    "# библиотеки\n",
    "import numpy as np\n",
    "import pandas as pd\n",
    "from sklearn.datasets import load_boston\n",
    "from sklearn.linear_model import SGDRegressor\n",
    "from sklearn.metrics import mean_squared_error\n",
    "from sklearn.model_selection import train_test_split\n",
    "from sklearn.metrics import r2_score\n",
    "from scipy.spatial import distance\n",
    "from matplotlib import pyplot as plt\n",
    "\n",
    "# выгружаем базу\n",
    "boston_dataset = load_boston()\n",
    "X = boston_dataset.data\n",
    "y = boston_dataset.target\n",
    "# разделяем на тренировачный и тестовый\n",
    "X_train, X_test, y_train, y_test = train_test_split(X, y, test_size=0.2, random_state=10)"
   ]
  },
  {
   "cell_type": "code",
   "execution_count": 6,
   "metadata": {},
   "outputs": [
    {
     "name": "stdout",
     "output_type": "stream",
     "text": [
      "Итарации закончились на шаге 7404, R2_score=0.581898, distance=0.000200\n"
     ]
    },
    {
     "data": {
      "image/png": "[encoded data removed]",
      "text/plain": [
       "<Figure size 432x288 with 1 Axes>"
      ]
     },
     "metadata": {
      "needs_background": "light"
     },
     "output_type": "display_data"
    }
   ],
   "source": [
    "# назначаем градиентный спуск\n",
    "gradient_regres = SGDRegressor(learning_rate='constant', eta0=0.000001, fit_intercept=True, random_state=42)\n",
    "# берем рандомное значение\n",
    "random_value = np.random.random(X_train.shape[1])\n",
    "# назначаем минимальный шаг\n",
    "min_step = 0.0002\n",
    "# переменная для r2-score\n",
    "r2_evolution = []\n",
    "# переменная шага\n",
    "weight_evolution = []\n",
    "\n",
    "for step in range(10000):\n",
    "    # частичное предсказание\n",
    "    step_gradient = gradient_regres.partial_fit(X_train, y_train)\n",
    "    # определяем шаг и записываем в переменную\n",
    "    weight_evolution.append(distance.euclidean(random_value, step_gradient.coef_))\n",
    "    # если шаг меньше минимального\n",
    "    if weight_evolution[-1] < min_step:\n",
    "        print(\"Итарации закончились на шаге %d, R2_score=%f, distance=%f\" % (step, r2_score(y_test, step_gradient.predict(X_test)), weight_evolution[-1]) )\n",
    "        break\n",
    "    # записываем полученый r2-score\n",
    "    r2_evolution.append(r2_score(y_test, step_gradient.predict(X_test)))\n",
    "    # записываем точку на которой остановились\n",
    "    random_value = step_gradient.coef_.copy()\n",
    "\n",
    "# выводим график\n",
    "plt.plot(range(step), r2_evolution)\n",
    "plt.ylabel('r2-score')\n",
    "plt.xlabel('Шаг')\n",
    "plt.show()"
   ]
  },
  {
   "cell_type": "code",
   "execution_count": null,
   "metadata": {},
   "outputs": [],
   "source": []
  }
 ],
 "metadata": {
  "celltoolbar": "Slideshow",
  "colab": {
   "name": "jun_ml_linear_regression_II-hw_4.ipynb",
   "provenance": []
  },
  "kernelspec": {
   "display_name": "Python 3",
   "language": "python",
   "name": "python3"
  },
  "language_info": {
   "codemirror_mode": {
    "name": "ipython",
    "version": 3
   },
   "file_extension": ".py",
   "mimetype": "text/x-python",
   "name": "python",
   "nbconvert_exporter": "python",
   "pygments_lexer": "ipython3",
   "version": "3.7.4"
  }
 },
 "nbformat": 4,
 "nbformat_minor": 1
}
