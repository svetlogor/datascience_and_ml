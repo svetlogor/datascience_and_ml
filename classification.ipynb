{
 "cells": [
  {
   "cell_type": "markdown",
   "metadata": {
    "colab_type": "text",
    "id": "-smrZewE1tU2"
   },
   "source": [
    "# Многоклассовая классификация.\n",
    "\n",
    "Посмотрим на примере алгоритма логистической регрессии и метода опорных векторов, как работать с различными методами многоклассовой классификации."
   ]
  },
  {
   "cell_type": "markdown",
   "metadata": {
    "colab_type": "text",
    "id": "S5kQdZzo1tU3"
   },
   "source": [
    "### 1.\n",
    "Загрузим датасет Wine, разделим на тренировочную и тестовую выборку (random_state=17), используя только [9, 11, 12] признаки."
   ]
  },
  {
   "cell_type": "code",
   "execution_count": 21,
   "metadata": {
    "colab": {},
    "colab_type": "code",
    "id": "paB2E5141tU4"
   },
   "outputs": [],
   "source": [
    "# библиотеки\n",
    "from sklearn.datasets import load_wine\n",
    "from sklearn.model_selection import train_test_split\n",
    "from sklearn.model_selection import StratifiedKFold, cross_val_score\n",
    "from sklearn.metrics import classification_report, confusion_matrix\n",
    "from sklearn.linear_model import LogisticRegression\n",
    "from sklearn.svm import SVC\n",
    "from sklearn.metrics import accuracy_score\n",
    "import pandas as pd\n",
    "import numpy as np"
   ]
  },
  {
   "cell_type": "code",
   "execution_count": 3,
   "metadata": {
    "colab": {},
    "colab_type": "code",
    "id": "LdwwBPqq1tU7"
   },
   "outputs": [],
   "source": [
    "# выгружаем датасет\n",
    "wine_dataset = load_wine()\n",
    "# разбиваем на X и Y\n",
    "X = wine_dataset.data\n",
    "y = wine_dataset.target\n",
    "df = pd.DataFrame(X, y)\n",
    "\n",
    "# разбиваем на тренировачный и тестовый датасет\n",
    "X_train, X_test, y_train, y_test = train_test_split(df.loc[:,[9,11,12]].values, df.index, test_size=0.25, random_state=17)"
   ]
  },
  {
   "cell_type": "code",
   "execution_count": 4,
   "metadata": {
    "colab": {},
    "colab_type": "code",
    "id": "LOVHhQ921tVA"
   },
   "outputs": [],
   "source": [
    "# задаем тип кросс-валидации с помощью StratifiedKFold: 5-кратная, random_state=17\n",
    "skf = StratifiedKFold(n_splits=5, random_state=17)"
   ]
  },
  {
   "cell_type": "markdown",
   "metadata": {
    "colab_type": "text",
    "id": "-2ClbxRe1tVC"
   },
   "source": [
    "### 2.\n",
    "Обучим логистическую регрессию (LogisticRegression) с параметром *C* по умолчанию и random_state=17. Укажим гиперпараметр multi_class='ovr' - по умолчанию многие классификаторы используют именно его. С помощью cross_val_score сделаем кросс-валидацию (используйте объект skf) и выведите среднюю долю правильных ответов на ней (используйте функцию mean). Отдельно выведем долю правильных ответов на тестовой выборке."
   ]
  },
  {
   "cell_type": "code",
   "execution_count": 15,
   "metadata": {
    "colab": {},
    "colab_type": "code",
    "id": "CJhpcgqc1tVJ"
   },
   "outputs": [],
   "source": [
    "# задаем логистическую регрессию\n",
    "log_reg = LogisticRegression(C=1.0, random_state=17, multi_class='ovr', solver='lbfgs')\n",
    "# обучаем модель\n",
    "log_reg_model = log_reg.fit(X_train, y_train)\n",
    "# предсказание\n",
    "log_reg_pred = log_reg_model.predict(X_test)\n",
    "# кросс-валидация\n",
    "log_reg_cross_score = cross_val_score(log_reg_model, X_test, y_test, cv=skf)"
   ]
  },
  {
   "cell_type": "code",
   "execution_count": 10,
   "metadata": {},
   "outputs": [
    {
     "name": "stdout",
     "output_type": "stream",
     "text": [
      "Средняя доля правильных ответов: 0.9492063492063492\n"
     ]
    }
   ],
   "source": [
    "print(f'Средняя доля правильных ответов: {np.mean(log_reg_cross_score)}')"
   ]
  },
  {
   "cell_type": "code",
   "execution_count": 16,
   "metadata": {},
   "outputs": [
    {
     "name": "stdout",
     "output_type": "stream",
     "text": [
      "Доля правильных ответов (Accuracy): 0.9111111111111111\n"
     ]
    }
   ],
   "source": [
    "accuracy = accuracy_score(y_test, log_reg_pred)\n",
    "print(f'Доля правильных ответов (Accuracy): {accuracy}')"
   ]
  },
  {
   "cell_type": "markdown",
   "metadata": {
    "colab_type": "text",
    "id": "k2JoC3fB1tVM"
   },
   "source": [
    "### 3.\n",
    "Обучим метод опорных векторов (SVC) с random_state=17 и остальными параметрами по умолчанию. Этот метод при мультиклассовой классификации также использует метод \"ovr\". Сделаем кросс-валидацию (используйте skf) и, как и в предыдущем пункте, выведем среднюю долю правильных ответов на ней. Отдельно выведите долю правильных ответов на тестовой выборке."
   ]
  },
  {
   "cell_type": "code",
   "execution_count": 19,
   "metadata": {
    "colab": {},
    "colab_type": "code",
    "id": "3DCvlNRd1tVR"
   },
   "outputs": [],
   "source": [
    "# задаем метод опорных векторов\n",
    "svc_model = SVC(random_state=17, gamma='scale').fit(X_train, y_train)\n",
    "# предсказание\n",
    "svc_pred = svc_model.predict(X_test)\n",
    "# кросс-валидация\n",
    "svc_cross_score = cross_val_score(svc_model, X_test, y_test, cv=skf)"
   ]
  },
  {
   "cell_type": "code",
   "execution_count": 17,
   "metadata": {},
   "outputs": [
    {
     "name": "stdout",
     "output_type": "stream",
     "text": [
      "Средняя доля правильных ответов: 0.7847619047619048\n"
     ]
    }
   ],
   "source": [
    "print(f'Средняя доля правильных ответов: {np.mean(svc_cross_score)}')"
   ]
  },
  {
   "cell_type": "code",
   "execution_count": 20,
   "metadata": {},
   "outputs": [
    {
     "name": "stdout",
     "output_type": "stream",
     "text": [
      "Доля правильных ответов (Accuracy): 0.6222222222222222\n"
     ]
    }
   ],
   "source": [
    "svc_accuracy = accuracy_score(y_test, svc_pred)\n",
    "print(f'Доля правильных ответов (Accuracy): {svc_accuracy}')"
   ]
  },
  {
   "cell_type": "markdown",
   "metadata": {
    "colab_type": "text",
    "id": "xMvjv6pR1tVX"
   },
   "source": [
    "Как видно из полученной метрики, на тестовой выборке метод с гиперпараметрами по умолчанию работает явно намного хуже логистической регрессии."
   ]
  },
  {
   "cell_type": "markdown",
   "metadata": {
    "colab_type": "text",
    "id": "0LqZbdk31tVY"
   },
   "source": [
    "### 4.\n",
    "Для предсказаний обеих моделей построим матрицу ошибок (confusion matrix) и выведем, какие классы каждая из моделей путает больше всего между собой."
   ]
  },
  {
   "cell_type": "code",
   "execution_count": 94,
   "metadata": {
    "colab": {},
    "colab_type": "code",
    "id": "VkXUKkhp1tVb"
   },
   "outputs": [],
   "source": [
    "# матрица логистической регрессии\n",
    "conf_mtx_reg = confusion_matrix(y_test, log_reg_pred)\n",
    "# матрица опорных векторов SVC\n",
    "conf_mtx_svc = confusion_matrix(y_test, svc_pred)"
   ]
  },
  {
   "cell_type": "code",
   "execution_count": 99,
   "metadata": {},
   "outputs": [
    {
     "name": "stdout",
     "output_type": "stream",
     "text": [
      "LogisticRegression:\n",
      "[[ 9  0  0]\n",
      " [ 0 19  0]\n",
      " [ 0  4 13]]\n",
      "\n",
      "SVC:\n",
      "[[ 9  0  0]\n",
      " [ 0 19  0]\n",
      " [ 2 15  0]]\n"
     ]
    }
   ],
   "source": [
    "print(f'LogisticRegression:\\n{conf_mtx_reg}\\n\\nSVC:\\n{conf_mtx_svc}')"
   ]
  },
  {
   "cell_type": "markdown",
   "metadata": {},
   "source": [
    "LogisticRegression - путает больше всего 3 и 2 класс.<br>\n",
    "SVC - путает больше всего 1 и 2 класс."
   ]
  },
  {
   "cell_type": "markdown",
   "metadata": {
    "colab_type": "text",
    "id": "mqW8if321tVd"
   },
   "source": [
    "### 5.\n",
    "Для каждой модели выведем classification report."
   ]
  },
  {
   "cell_type": "code",
   "execution_count": 104,
   "metadata": {
    "colab": {},
    "colab_type": "code",
    "id": "iuu7neuS1tVe"
   },
   "outputs": [
    {
     "name": "stdout",
     "output_type": "stream",
     "text": [
      "LogisticRegression:\n",
      "              precision    recall  f1-score   support\n",
      "\n",
      "           0       1.00      1.00      1.00         9\n",
      "           1       0.83      1.00      0.90        19\n",
      "           2       1.00      0.76      0.87        17\n",
      "\n",
      "    accuracy                           0.91        45\n",
      "   macro avg       0.94      0.92      0.92        45\n",
      "weighted avg       0.93      0.91      0.91        45\n",
      "\n",
      "\n",
      "SVC:\n",
      "              precision    recall  f1-score   support\n",
      "\n",
      "           0       0.82      1.00      0.90         9\n",
      "           1       0.56      1.00      0.72        19\n",
      "           2       0.00      0.00      0.00        17\n",
      "\n",
      "    accuracy                           0.62        45\n",
      "   macro avg       0.46      0.67      0.54        45\n",
      "weighted avg       0.40      0.62      0.48        45\n",
      "\n"
     ]
    },
    {
     "name": "stderr",
     "output_type": "stream",
     "text": [
      "C:\\Users\\User\\Anaconda3\\lib\\site-packages\\sklearn\\metrics\\classification.py:1437: UndefinedMetricWarning: Precision and F-score are ill-defined and being set to 0.0 in labels with no predicted samples.\n",
      "  'precision', 'predicted', average, warn_for)\n"
     ]
    }
   ],
   "source": [
    "print(f'LogisticRegression:\\n{classification_report(y_test, log_reg_pred)}\\n\\nSVC:\\n{classification_report(y_test, svc_pred)}')"
   ]
  },
  {
   "cell_type": "code",
   "execution_count": null,
   "metadata": {},
   "outputs": [],
   "source": []
  }
 ],
 "metadata": {
  "colab": {
   "name": "homework_classification-2_les-2.ipynb",
   "provenance": []
  },
  "kernelspec": {
   "display_name": "Python 3",
   "language": "python",
   "name": "python3"
  },
  "language_info": {
   "codemirror_mode": {
    "name": "ipython",
    "version": 3
   },
   "file_extension": ".py",
   "mimetype": "text/x-python",
   "name": "python",
   "nbconvert_exporter": "python",
   "pygments_lexer": "ipython3",
   "version": "3.7.4"
  }
 },
 "nbformat": 4,
 "nbformat_minor": 1
}
