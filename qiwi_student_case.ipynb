{
 "cells": [
  {
   "cell_type": "code",
   "execution_count": 489,
   "metadata": {
    "colab": {},
    "colab_type": "code",
    "id": "QgRYc_0IKkdd"
   },
   "outputs": [],
   "source": [
    "import pandas as pd\n",
    "%matplotlib inline\n",
    "import os\n",
    "from operator import attrgetter\n",
    "import matplotlib.pyplot as plt\n",
    "plt.rcParams['figure.figsize'] = (7.0, 7.0)\n",
    "os.environ[\"NLS_LANG\"] = \"American_America.AL32UTF8\"\n",
    "\n",
    "import numpy as np\n",
    "import seaborn as sns"
   ]
  },
  {
   "cell_type": "markdown",
   "metadata": {
    "colab_type": "text",
    "id": "5YXm1ByBKkdw"
   },
   "source": [
    "## Данные - датасет и загрузка"
   ]
  },
  {
   "cell_type": "markdown",
   "metadata": {
    "colab_type": "text",
    "id": "v28m4CiMKkdy"
   },
   "source": [
    "В современной финтех индустрии одной из ключевых сфер для применения data science является процесс кредитного скоринга.\n",
    "Скоринговые модели помогают датасаентистам определить, какие клиенты с наибольшей вероятностью вернут выданный кредит, что помогает банку сформировать прибыльный продуктовый портфель и управлять рисками.\n",
    "\n",
    "В этом кейсе вам предстоит исследовать данные о заявках клиентов на кредитную карту и кредитной истории.\n",
    "- Для задания понадобятся данные из https://www.kaggle.com/rikdifos/credit-card-approval-prediction (также Вы можете найти данные [в данной папке](https://drive.google.com/drive/folders/1v5RTvwpLfYVO86KfXyfMsT3DEXb7hnCG?usp=sharing))\n",
    "- Описание данных находится на страничке датасета."
   ]
  },
  {
   "cell_type": "code",
   "execution_count": 2,
   "metadata": {
    "colab": {},
    "colab_type": "code",
    "id": "aFzCCj6xKkd1"
   },
   "outputs": [],
   "source": [
    "# Загрузим файлы датасета.\n",
    "app = pd.read_csv(\"application_record.csv\", sep=\",\")\n",
    "app.columns = map(str.lower, app.columns)\n",
    "\n",
    "credit = pd.read_csv(\"credit_record.csv\", sep=\",\")\n",
    "credit.columns = map(str.lower, credit.columns)"
   ]
  },
  {
   "cell_type": "code",
   "execution_count": 255,
   "metadata": {
    "colab": {},
    "colab_type": "code",
    "id": "qraM-8GhKkeD",
    "outputId": "b4fdd6d9-24d5-4936-c98b-75c1d7021a7f"
   },
   "outputs": [
    {
     "data": {
      "text/html": [
       "<div>\n",
       "<style scoped>\n",
       "    .dataframe tbody tr th:only-of-type {\n",
       "        vertical-align: middle;\n",
       "    }\n",
       "\n",
       "    .dataframe tbody tr th {\n",
       "        vertical-align: top;\n",
       "    }\n",
       "\n",
       "    .dataframe thead th {\n",
       "        text-align: right;\n",
       "    }\n",
       "</style>\n",
       "<table border=\"1\" class=\"dataframe\">\n",
       "  <thead>\n",
       "    <tr style=\"text-align: right;\">\n",
       "      <th></th>\n",
       "      <th>id</th>\n",
       "      <th>code_gender</th>\n",
       "      <th>flag_own_car</th>\n",
       "      <th>flag_own_realty</th>\n",
       "      <th>cnt_children</th>\n",
       "      <th>amt_income_total</th>\n",
       "      <th>name_income_type</th>\n",
       "      <th>name_education_type</th>\n",
       "      <th>name_family_status</th>\n",
       "      <th>name_housing_type</th>\n",
       "      <th>days_birth</th>\n",
       "      <th>days_employed</th>\n",
       "      <th>flag_mobil</th>\n",
       "      <th>flag_work_phone</th>\n",
       "      <th>flag_phone</th>\n",
       "      <th>flag_email</th>\n",
       "      <th>occupation_type</th>\n",
       "      <th>cnt_fam_members</th>\n",
       "    </tr>\n",
       "  </thead>\n",
       "  <tbody>\n",
       "    <tr>\n",
       "      <td>0</td>\n",
       "      <td>5008804</td>\n",
       "      <td>M</td>\n",
       "      <td>Y</td>\n",
       "      <td>Y</td>\n",
       "      <td>0</td>\n",
       "      <td>427500.0</td>\n",
       "      <td>Working</td>\n",
       "      <td>Higher education</td>\n",
       "      <td>Civil marriage</td>\n",
       "      <td>Rented apartment</td>\n",
       "      <td>-12005</td>\n",
       "      <td>-4542</td>\n",
       "      <td>1</td>\n",
       "      <td>1</td>\n",
       "      <td>0</td>\n",
       "      <td>0</td>\n",
       "      <td>NaN</td>\n",
       "      <td>2.0</td>\n",
       "    </tr>\n",
       "    <tr>\n",
       "      <td>1</td>\n",
       "      <td>5008805</td>\n",
       "      <td>M</td>\n",
       "      <td>Y</td>\n",
       "      <td>Y</td>\n",
       "      <td>0</td>\n",
       "      <td>427500.0</td>\n",
       "      <td>Working</td>\n",
       "      <td>Higher education</td>\n",
       "      <td>Civil marriage</td>\n",
       "      <td>Rented apartment</td>\n",
       "      <td>-12005</td>\n",
       "      <td>-4542</td>\n",
       "      <td>1</td>\n",
       "      <td>1</td>\n",
       "      <td>0</td>\n",
       "      <td>0</td>\n",
       "      <td>NaN</td>\n",
       "      <td>2.0</td>\n",
       "    </tr>\n",
       "    <tr>\n",
       "      <td>2</td>\n",
       "      <td>5008806</td>\n",
       "      <td>M</td>\n",
       "      <td>Y</td>\n",
       "      <td>Y</td>\n",
       "      <td>0</td>\n",
       "      <td>112500.0</td>\n",
       "      <td>Working</td>\n",
       "      <td>Secondary / secondary special</td>\n",
       "      <td>Married</td>\n",
       "      <td>House / apartment</td>\n",
       "      <td>-21474</td>\n",
       "      <td>-1134</td>\n",
       "      <td>1</td>\n",
       "      <td>0</td>\n",
       "      <td>0</td>\n",
       "      <td>0</td>\n",
       "      <td>Security staff</td>\n",
       "      <td>2.0</td>\n",
       "    </tr>\n",
       "  </tbody>\n",
       "</table>\n",
       "</div>"
      ],
      "text/plain": [
       "        id code_gender flag_own_car flag_own_realty  cnt_children  \\\n",
       "0  5008804           M            Y               Y             0   \n",
       "1  5008805           M            Y               Y             0   \n",
       "2  5008806           M            Y               Y             0   \n",
       "\n",
       "   amt_income_total name_income_type            name_education_type  \\\n",
       "0          427500.0          Working               Higher education   \n",
       "1          427500.0          Working               Higher education   \n",
       "2          112500.0          Working  Secondary / secondary special   \n",
       "\n",
       "  name_family_status  name_housing_type  days_birth  days_employed  \\\n",
       "0     Civil marriage   Rented apartment      -12005          -4542   \n",
       "1     Civil marriage   Rented apartment      -12005          -4542   \n",
       "2            Married  House / apartment      -21474          -1134   \n",
       "\n",
       "   flag_mobil  flag_work_phone  flag_phone  flag_email occupation_type  \\\n",
       "0           1                1           0           0             NaN   \n",
       "1           1                1           0           0             NaN   \n",
       "2           1                0           0           0  Security staff   \n",
       "\n",
       "   cnt_fam_members  \n",
       "0              2.0  \n",
       "1              2.0  \n",
       "2              2.0  "
      ]
     },
     "execution_count": 255,
     "metadata": {},
     "output_type": "execute_result"
    }
   ],
   "source": [
    "app.head(3)"
   ]
  },
  {
   "cell_type": "code",
   "execution_count": 5,
   "metadata": {
    "colab": {},
    "colab_type": "code",
    "id": "0RcgbYHAKkeP",
    "outputId": "e6a3c2d7-4610-4a68-d58d-abb55feb1618"
   },
   "outputs": [
    {
     "data": {
      "text/html": [
       "<div>\n",
       "<style scoped>\n",
       "    .dataframe tbody tr th:only-of-type {\n",
       "        vertical-align: middle;\n",
       "    }\n",
       "\n",
       "    .dataframe tbody tr th {\n",
       "        vertical-align: top;\n",
       "    }\n",
       "\n",
       "    .dataframe thead th {\n",
       "        text-align: right;\n",
       "    }\n",
       "</style>\n",
       "<table border=\"1\" class=\"dataframe\">\n",
       "  <thead>\n",
       "    <tr style=\"text-align: right;\">\n",
       "      <th></th>\n",
       "      <th>id</th>\n",
       "      <th>months_balance</th>\n",
       "      <th>status</th>\n",
       "    </tr>\n",
       "  </thead>\n",
       "  <tbody>\n",
       "    <tr>\n",
       "      <td>0</td>\n",
       "      <td>5001711</td>\n",
       "      <td>0</td>\n",
       "      <td>X</td>\n",
       "    </tr>\n",
       "    <tr>\n",
       "      <td>1</td>\n",
       "      <td>5001711</td>\n",
       "      <td>-1</td>\n",
       "      <td>0</td>\n",
       "    </tr>\n",
       "    <tr>\n",
       "      <td>2</td>\n",
       "      <td>5001711</td>\n",
       "      <td>-2</td>\n",
       "      <td>0</td>\n",
       "    </tr>\n",
       "    <tr>\n",
       "      <td>3</td>\n",
       "      <td>5001711</td>\n",
       "      <td>-3</td>\n",
       "      <td>0</td>\n",
       "    </tr>\n",
       "    <tr>\n",
       "      <td>4</td>\n",
       "      <td>5001712</td>\n",
       "      <td>0</td>\n",
       "      <td>C</td>\n",
       "    </tr>\n",
       "    <tr>\n",
       "      <td>5</td>\n",
       "      <td>5001712</td>\n",
       "      <td>-1</td>\n",
       "      <td>C</td>\n",
       "    </tr>\n",
       "    <tr>\n",
       "      <td>6</td>\n",
       "      <td>5001712</td>\n",
       "      <td>-2</td>\n",
       "      <td>C</td>\n",
       "    </tr>\n",
       "    <tr>\n",
       "      <td>7</td>\n",
       "      <td>5001712</td>\n",
       "      <td>-3</td>\n",
       "      <td>C</td>\n",
       "    </tr>\n",
       "    <tr>\n",
       "      <td>8</td>\n",
       "      <td>5001712</td>\n",
       "      <td>-4</td>\n",
       "      <td>C</td>\n",
       "    </tr>\n",
       "  </tbody>\n",
       "</table>\n",
       "</div>"
      ],
      "text/plain": [
       "        id  months_balance status\n",
       "0  5001711               0      X\n",
       "1  5001711              -1      0\n",
       "2  5001711              -2      0\n",
       "3  5001711              -3      0\n",
       "4  5001712               0      C\n",
       "5  5001712              -1      C\n",
       "6  5001712              -2      C\n",
       "7  5001712              -3      C\n",
       "8  5001712              -4      C"
      ]
     },
     "execution_count": 5,
     "metadata": {},
     "output_type": "execute_result"
    }
   ],
   "source": [
    "credit.head(9)"
   ]
  },
  {
   "cell_type": "markdown",
   "metadata": {
    "colab_type": "text",
    "id": "PhOIZy1NKkeY"
   },
   "source": [
    "### Задание 1 - проверка качества данных\n",
    "Перечислите названия колонок датасета app, в котором есть незаполненные (Null) значения."
   ]
  },
  {
   "cell_type": "code",
   "execution_count": 41,
   "metadata": {
    "colab": {},
    "colab_type": "code",
    "id": "GG30PPKtLbik"
   },
   "outputs": [
    {
     "data": {
      "text/plain": [
       "'occupation_type'"
      ]
     },
     "execution_count": 41,
     "metadata": {},
     "output_type": "execute_result"
    }
   ],
   "source": [
    "info_null_app = pd.DataFrame(app.isnull().sum().values, app.isnull().sum().index)\n",
    "info_null_app.index[info_null_app[0] > 0][0]"
   ]
  },
  {
   "cell_type": "markdown",
   "metadata": {
    "colab_type": "text",
    "id": "C4ueOm2gKkej"
   },
   "source": [
    "### Задание 2 - проверка качества данных\n",
    "Рассчитайте долю незаполненных значений в колонке с их максимальным количеством.\n",
    "Результат округлите до двух знаков после запятой (округление в большую сторону)."
   ]
  },
  {
   "cell_type": "code",
   "execution_count": 51,
   "metadata": {
    "colab": {},
    "colab_type": "code",
    "id": "bXNqCtuYLcUQ"
   },
   "outputs": [
    {
     "data": {
      "text/plain": [
       "30.6"
      ]
     },
     "execution_count": 51,
     "metadata": {},
     "output_type": "execute_result"
    }
   ],
   "source": [
    "# высчитываем долю\n",
    "value = (app.occupation_type.isnull().sum() * 100)/app.shape[0]\n",
    "# округляем до двух знаков после запятой\n",
    "round(value, 2)"
   ]
  },
  {
   "cell_type": "markdown",
   "metadata": {
    "colab_type": "text",
    "id": "5RpoItmiKkep"
   },
   "source": [
    "### Задание 3\n",
    "Определите число дубликатов в столбце с айди клиента (id)"
   ]
  },
  {
   "cell_type": "code",
   "execution_count": 464,
   "metadata": {
    "colab": {},
    "colab_type": "code",
    "id": "xf1vHbP_LdFn"
   },
   "outputs": [
    {
     "data": {
      "text/plain": [
       "47"
      ]
     },
     "execution_count": 464,
     "metadata": {},
     "output_type": "execute_result"
    }
   ],
   "source": [
    "app.duplicated(subset=['id']).sum()"
   ]
  },
  {
   "cell_type": "markdown",
   "metadata": {
    "colab_type": "text",
    "id": "wHAbJzsHKkex"
   },
   "source": [
    "### Задание 4\n",
    "Определите самые популярные профессии клиентов (occupation_type), исключая Null значения, отсортировав их по числу id.\n",
    "\n",
    "Результат представьте в виде dict вида {профессия:число клиентов}."
   ]
  },
  {
   "cell_type": "code",
   "execution_count": 127,
   "metadata": {
    "colab": {},
    "colab_type": "code",
    "id": "dk_X5OJMLdyM"
   },
   "outputs": [
    {
     "data": {
      "text/plain": [
       "{'Laborers': 78236,\n",
       " 'Core staff': 43001,\n",
       " 'Sales staff': 41097,\n",
       " 'Managers': 35482,\n",
       " 'Drivers': 26090,\n",
       " 'High skill tech staff': 17287,\n",
       " 'Accountants': 15983,\n",
       " 'Medicine staff': 13519,\n",
       " 'Cooking staff': 8076,\n",
       " 'Security staff': 7993,\n",
       " 'Cleaning staff': 5843,\n",
       " 'Private service staff': 3456,\n",
       " 'Low-skill Laborers': 2140,\n",
       " 'Secretaries': 2044,\n",
       " 'Waiters/barmen staff': 1665,\n",
       " 'Realty agents': 1041,\n",
       " 'HR staff': 774,\n",
       " 'IT staff': 604}"
      ]
     },
     "execution_count": 127,
     "metadata": {},
     "output_type": "execute_result"
    }
   ],
   "source": [
    "# готовим df\n",
    "df_occupation_type = app[['id', 'occupation_type']].copy()\n",
    "# удаляем пустые значения\n",
    "df_occupation_type.dropna(inplace=True)\n",
    "# удаляем дубликаты\n",
    "df_occupation_type.drop_duplicates(subset=['id'], inplace=True)\n",
    "# группируем и считаем кол-во клиентов\n",
    "df_group_occupation_type = df_occupation_type.groupby('occupation_type').agg({'id':'count'})\n",
    "# сортируем\n",
    "df_group_occupation_type = df_group_occupation_type.sort_values('id', ascending=False)\n",
    "# выводим в виде dict\n",
    "df_group_occupation_type.to_dict()['id']"
   ]
  },
  {
   "cell_type": "markdown",
   "metadata": {
    "colab_type": "text",
    "id": "gCm9luYqKke3"
   },
   "source": [
    "### Задание 5\n",
    "Клиенты с каким уровнем образования (name_education_type) имеют наибольший средний доход? Помимо уровня образования укажите и средний доход для него, округленный до двух знаков после запятой."
   ]
  },
  {
   "cell_type": "code",
   "execution_count": 165,
   "metadata": {
    "colab": {},
    "colab_type": "code",
    "id": "r9xHqvajLee4"
   },
   "outputs": [
    {
     "data": {
      "text/html": [
       "<div>\n",
       "<style scoped>\n",
       "    .dataframe tbody tr th:only-of-type {\n",
       "        vertical-align: middle;\n",
       "    }\n",
       "\n",
       "    .dataframe tbody tr th {\n",
       "        vertical-align: top;\n",
       "    }\n",
       "\n",
       "    .dataframe thead th {\n",
       "        text-align: right;\n",
       "    }\n",
       "</style>\n",
       "<table border=\"1\" class=\"dataframe\">\n",
       "  <thead>\n",
       "    <tr style=\"text-align: right;\">\n",
       "      <th></th>\n",
       "      <th>highest average income</th>\n",
       "    </tr>\n",
       "    <tr>\n",
       "      <th>name_education_type</th>\n",
       "      <th></th>\n",
       "    </tr>\n",
       "  </thead>\n",
       "  <tbody>\n",
       "    <tr>\n",
       "      <td>Academic degree</td>\n",
       "      <td>240692.31</td>\n",
       "    </tr>\n",
       "  </tbody>\n",
       "</table>\n",
       "</div>"
      ],
      "text/plain": [
       "                     highest average income\n",
       "name_education_type                        \n",
       "Academic degree                   240692.31"
      ]
     },
     "execution_count": 165,
     "metadata": {},
     "output_type": "execute_result"
    }
   ],
   "source": [
    "# готовим df\n",
    "df_education_type = app[['id', 'amt_income_total', 'name_education_type']].copy()\n",
    "# удаляем дубликаты\n",
    "df_education_type.drop_duplicates(subset=['id'], inplace=True)\n",
    "# группируем данные и считаем средний доход\n",
    "df_group_df_education_type = df_education_type.groupby('name_education_type').agg({'amt_income_total':lambda x: round(np.mean(x), 2)})\n",
    "# переименование столбца\n",
    "df_group_df_education_type.columns = ['highest average income']\n",
    "# выводим образование с наибольшим средним доходом\n",
    "df_group_df_education_type.iloc[[0]]"
   ]
  },
  {
   "cell_type": "markdown",
   "metadata": {
    "colab_type": "text",
    "id": "YPIHIg8uKke-"
   },
   "source": [
    "### Задание 6\n",
    "Для клиентов с уровнем образования из п4 и семейным положением (name_family_status) Married, выясните, у кого в среднем больше доход (amt_income_total) - у клиентов с машиной или без?"
   ]
  },
  {
   "cell_type": "code",
   "execution_count": 597,
   "metadata": {
    "colab": {},
    "colab_type": "code",
    "id": "VKcVMEFtLfPl"
   },
   "outputs": [
    {
     "name": "stdout",
     "output_type": "stream",
     "text": [
      "У клиента без машины, в среднем доход больше.\n"
     ]
    }
   ],
   "source": [
    "# готовим df\n",
    "df_family_status = app[['id', 'amt_income_total', 'name_education_type', 'name_family_status', 'flag_own_car']].copy()\n",
    "# фильтруем df\n",
    "df_family_status = df_family_status[(df_family_status.name_education_type == 'Academic degree') & (df_family_status.name_family_status == 'Married')]\n",
    "# группируем и считаем средний доход\n",
    "df_group_family_status = df_family_status.groupby('flag_own_car').agg({'amt_income_total':'mean'})\n",
    "# выводим результат\n",
    "own_car = 'без машины' if df_group_family_status.iloc[[0]].index[0] == 'N' else 'с машиной'\n",
    "print(f'У клиента {own_car}, в среднем доход больше.')"
   ]
  },
  {
   "cell_type": "markdown",
   "metadata": {
    "colab_type": "text",
    "id": "6iYvcyB5KkfE"
   },
   "source": [
    "### Задание 7\n",
    "Рассчитайте разнциу между медианным стажем (days_employed) мужчин и женщин в месяцах. В ответе приведите модуль от это числа, округленный до двух знаков после запятой."
   ]
  },
  {
   "cell_type": "code",
   "execution_count": 298,
   "metadata": {
    "colab": {},
    "colab_type": "code",
    "id": "mFiF-JvYLgId"
   },
   "outputs": [],
   "source": [
    "# готовим df\n",
    "df_days_employed = app[['id', 'code_gender', 'days_employed']].copy()\n",
    "# очищаем df от выбрасов в столбце days_employed\n",
    "df_days_employed = df_days_employed[df_days_employed.days_employed < 0]\n",
    "# дни в даты\n",
    "df_days_employed['data_employed'] = df_days_employed.days_employed.apply(lambda x: pd.datetime.today() + timedelta(days=x))\n",
    "# считаем кол-во месяцев\n",
    "df_days_employed['quantity_month'] = (pd.to_datetime(pd.datetime.today(), format='%Y-%m').to_period('M') - df_days_employed.data_employed.dt.to_period('M')).apply(attrgetter('n'))"
   ]
  },
  {
   "cell_type": "code",
   "execution_count": 319,
   "metadata": {},
   "outputs": [
    {
     "data": {
      "text/plain": [
       "12"
      ]
     },
     "execution_count": 319,
     "metadata": {},
     "output_type": "execute_result"
    }
   ],
   "source": [
    "# группируем и узнаем медиану\n",
    "df_days_employed = df_days_employed.groupby('code_gender', as_index=False).agg({'quantity_month': 'median'})\n",
    "# назначаем переменные\n",
    "F = df_days_employed['quantity_month'][df_days_employed.code_gender == 'F'][0]\n",
    "M = df_days_employed['quantity_month'][df_days_employed.code_gender == 'M'][1]\n",
    "# модуль от числа\n",
    "abs(M-F)"
   ]
  },
  {
   "cell_type": "markdown",
   "metadata": {
    "colab_type": "text",
    "id": "rehMDbcjKkfK"
   },
   "source": [
    "### Задание 8\n",
    "Для женщин, чей доход или стаж строго выше 75 перцентиля аналогичных показателей для мужчин, определите наиболее популярную профессию (occupation_type). Null значения в occupation_type не учитывать, как и в пункте 4.\n",
    "\n",
    "В качесте ответа приведите название этой профессии."
   ]
  },
  {
   "cell_type": "code",
   "execution_count": 352,
   "metadata": {
    "colab": {},
    "colab_type": "code",
    "id": "oDeTSCM9LhGO"
   },
   "outputs": [
    {
     "data": {
      "text/plain": [
       "'Managers'"
      ]
     },
     "execution_count": 352,
     "metadata": {},
     "output_type": "execute_result"
    }
   ],
   "source": [
    "# готовим df\n",
    "df_quantile = app[['id', 'code_gender', 'days_employed', 'amt_income_total', 'occupation_type']].copy()\n",
    "# удаляем пустые строчки\n",
    "df_quantile.dropna(inplace=True)\n",
    "# перцентиль дохода и стажа у мужчин\n",
    "experience_m = df_quantile.days_employed[df_quantile.code_gender == 'M'].quantile(.75)\n",
    "income_m = df_quantile.amt_income_total[df_quantile.code_gender == 'M'].quantile(.75)\n",
    "\n",
    "# df женщин\n",
    "df_famale = df_quantile[df_quantile.code_gender == 'F']\n",
    "# df женщин выше 75 перцентиля чем у мужчин\n",
    "df_famale = df_famale[(df_famale.days_employed < experience_m) & (df_famale.amt_income_total > income_m)]\n",
    "# группировка и кол-во клиентов\n",
    "df_famale = df_famale.groupby('occupation_type', as_index=False).agg({'id':'count'})\n",
    "# сортировка и вывод\n",
    "df_famale.sort_values('id', ascending=False).iloc[0][0]"
   ]
  },
  {
   "cell_type": "markdown",
   "metadata": {
    "colab_type": "text",
    "id": "t5S5miXPKkfP"
   },
   "source": [
    "### Задание 9\n",
    "Оцените наличие связи между размером дохода и модулем возраста при помощи коэфициента корреляции.\n",
    "В качестве ответа приведите значение в процентах, округленное до 5 знаков после запятой."
   ]
  },
  {
   "cell_type": "code",
   "execution_count": 567,
   "metadata": {
    "colab": {},
    "colab_type": "code",
    "id": "hx-85nT0LijM"
   },
   "outputs": [],
   "source": [
    "# готовим df\n",
    "df_corr = app[['amt_income_total', 'days_birth']].copy()\n",
    "# модуль деньрождения\n",
    "df_corr.days_birth = df_corr.days_birth.apply(lambda x: abs(x))"
   ]
  },
  {
   "cell_type": "code",
   "execution_count": 578,
   "metadata": {},
   "outputs": [
    {
     "data": {
      "image/png": "[encoded data removed]",
      "text/plain": [
       "<Figure size 1080x576 with 3 Axes>"
      ]
     },
     "metadata": {
      "needs_background": "light"
     },
     "output_type": "display_data"
    }
   ],
   "source": [
    "# проверем выбросы\n",
    "fig = plt.figure(figsize=(15,8))\n",
    "subplot1 = fig.add_subplot(131)\n",
    "plt.boxplot('amt_income_total', data=df_corr)\n",
    "plt.title('amt_income_total')\n",
    "\n",
    "subplot1 = fig.add_subplot(132)\n",
    "plt.boxplot('amt_income_total', data=df_corr)\n",
    "plt.gca().set(xlim=(0, 2), ylim=(10000, 390000))\n",
    "plt.title('Приблизим amt_income_total')\n",
    "\n",
    "subplot1 = fig.add_subplot(133)\n",
    "plt.boxplot('days_birth', data=df_corr)\n",
    "plt.title('| days_birth |')\n",
    "\n",
    "plt.show()"
   ]
  },
  {
   "cell_type": "code",
   "execution_count": 588,
   "metadata": {},
   "outputs": [
    {
     "data": {
      "text/plain": [
       "(2.0, 0.0)"
      ]
     },
     "execution_count": 588,
     "metadata": {},
     "output_type": "execute_result"
    },
    {
     "data": {
      "image/png": "[encoded data removed]",
      "text/plain": [
       "<Figure size 576x432 with 2 Axes>"
      ]
     },
     "metadata": {
      "needs_background": "light"
     },
     "output_type": "display_data"
    }
   ],
   "source": [
    "# убираем выбросы\n",
    "df_corr = df_corr[df_corr.amt_income_total < 380000]\n",
    "# строим heatmap по метрикам\n",
    "plt.figure(figsize=(8,6))\n",
    "ax = sns.heatmap(df_corr.corr(), center=-1, annot=True, fmt ='.4g')\n",
    "i, k = ax.get_ylim()\n",
    "ax.set_ylim(i+0.5, k-0.5)"
   ]
  },
  {
   "cell_type": "code",
   "execution_count": 603,
   "metadata": {},
   "outputs": [
    {
     "name": "stdout",
     "output_type": "stream",
     "text": [
      "8.0 %\n"
     ]
    }
   ],
   "source": [
    "# коэффициент корреляции\n",
    "value = abs(round(df_corr.corr().loc['amt_income_total', 'days_birth'], 2) * 100)\n",
    "print(f'{value} %')"
   ]
  },
  {
   "cell_type": "markdown",
   "metadata": {
    "colab_type": "text",
    "id": "lwdYtmTJKkfV"
   },
   "source": [
    "### Задание 10\n",
    "По результатам задания 9 при помощи коээфициента корреляции оцените силу связи между доходом и модулем возраста:\n",
    "\n",
    "    1) сильная положительная связь\n",
    "    2) слабая положительная связь\n",
    "    3) нелинейная связь\n",
    "    4) умеренная отрицательная связь\n",
    "    5) все ответы неверны"
   ]
  },
  {
   "cell_type": "markdown",
   "metadata": {
    "colab": {},
    "colab_type": "code",
    "id": "H97DPXPRLlVl"
   },
   "source": [
    "**Выберите верный ответ:**<br>\n",
    "Так как у нас слабая отрицательная связь<br> ***5) все ответы неверны***"
   ]
  },
  {
   "cell_type": "markdown",
   "metadata": {
    "colab_type": "text",
    "id": "kuSN73AGKkfZ"
   },
   "source": [
    "### Задание 11\n",
    "Какие типы занятости (name_income_type) встречаются среди клиентов с просрочкой от 30-59 дней? Ответ приведите в виде словаря с сортировкой по числу id:\n",
    "{name_income_type:число id}"
   ]
  },
  {
   "cell_type": "code",
   "execution_count": 590,
   "metadata": {
    "colab": {},
    "colab_type": "code",
    "id": "KoDMTmSPLrsT"
   },
   "outputs": [],
   "source": [
    "# подготовка df\n",
    "df_all = pd.merge(credit, app, left_on='id', right_on='id', how='inner')"
   ]
  },
  {
   "cell_type": "code",
   "execution_count": 593,
   "metadata": {},
   "outputs": [
    {
     "data": {
      "text/plain": [
       "{'Student': 1,\n",
       " 'State servant': 380,\n",
       " 'Pensioner': 607,\n",
       " 'Commercial associate': 1057,\n",
       " 'Working': 2104}"
      ]
     },
     "execution_count": 593,
     "metadata": {},
     "output_type": "execute_result"
    }
   ],
   "source": [
    "# выбираем клиентов с просрочкой от 30-59\n",
    "df_name_income_type = df_all[df_all.status == '1'].copy()\n",
    "# удаляем дубликаты\n",
    "df_name_income_type.drop_duplicates(subset=['id'], inplace=True)\n",
    "# группируем и вычисляем кол-во id\n",
    "df_group_n_i_t = df_name_income_type.groupby('name_income_type').agg({'id': 'count'})\n",
    "# сортируем и выводим в виде dict\n",
    "df_group_n_i_t.sort_values('id').to_dict()['id']"
   ]
  },
  {
   "cell_type": "markdown",
   "metadata": {
    "colab_type": "text",
    "id": "pKdEttiwKkfe"
   },
   "source": [
    "### Задание 12\n",
    "Выберите верные утверждения для клиентов с просрочкой более 150 дней:\n",
    "\n",
    "    1) среди этих клиентов больше всего людей имеет образование уровня Lower secondary\n",
    "    2) среди этих клиентов 61% - мужчины\n",
    "    3) не все такие клиенты присутствуют в датасете с заявками\n",
    "    4) все три утверждения выше неверны"
   ]
  },
  {
   "cell_type": "code",
   "execution_count": 594,
   "metadata": {},
   "outputs": [],
   "source": [
    "# подготовка df\n",
    "df_delay = df_all[['id', 'name_education_type', 'code_gender', 'status']][df_all.status == '5']\n",
    "# удаляем дубликаты\n",
    "df_delay.drop_duplicates(subset=['id'], inplace=True)"
   ]
  },
  {
   "cell_type": "markdown",
   "metadata": {},
   "source": [
    "*Проверка утверждения* **1**"
   ]
  },
  {
   "cell_type": "code",
   "execution_count": 595,
   "metadata": {},
   "outputs": [
    {
     "data": {
      "text/html": [
       "<div>\n",
       "<style scoped>\n",
       "    .dataframe tbody tr th:only-of-type {\n",
       "        vertical-align: middle;\n",
       "    }\n",
       "\n",
       "    .dataframe tbody tr th {\n",
       "        vertical-align: top;\n",
       "    }\n",
       "\n",
       "    .dataframe thead th {\n",
       "        text-align: right;\n",
       "    }\n",
       "</style>\n",
       "<table border=\"1\" class=\"dataframe\">\n",
       "  <thead>\n",
       "    <tr style=\"text-align: right;\">\n",
       "      <th></th>\n",
       "      <th>id</th>\n",
       "    </tr>\n",
       "    <tr>\n",
       "      <th>name_education_type</th>\n",
       "      <th></th>\n",
       "    </tr>\n",
       "  </thead>\n",
       "  <tbody>\n",
       "    <tr>\n",
       "      <td>Secondary / secondary special</td>\n",
       "      <td>110</td>\n",
       "    </tr>\n",
       "    <tr>\n",
       "      <td>Higher education</td>\n",
       "      <td>57</td>\n",
       "    </tr>\n",
       "    <tr>\n",
       "      <td>Incomplete higher</td>\n",
       "      <td>7</td>\n",
       "    </tr>\n",
       "    <tr>\n",
       "      <td>Lower secondary</td>\n",
       "      <td>6</td>\n",
       "    </tr>\n",
       "  </tbody>\n",
       "</table>\n",
       "</div>"
      ],
      "text/plain": [
       "                                id\n",
       "name_education_type               \n",
       "Secondary / secondary special  110\n",
       "Higher education                57\n",
       "Incomplete higher                7\n",
       "Lower secondary                  6"
      ]
     },
     "execution_count": 595,
     "metadata": {},
     "output_type": "execute_result"
    }
   ],
   "source": [
    "df_group_delay = df_delay.groupby('name_education_type').agg({'id': 'count'})\n",
    "df_group_delay.sort_values('id', ascending=False)"
   ]
  },
  {
   "cell_type": "markdown",
   "metadata": {},
   "source": [
    "*Проверка утверждения* **2**"
   ]
  },
  {
   "cell_type": "code",
   "execution_count": 596,
   "metadata": {},
   "outputs": [
    {
     "name": "stdout",
     "output_type": "stream",
     "text": [
      "Среди этих клиентов 38.0 % - мужчин.\n"
     ]
    }
   ],
   "source": [
    "male_count = df_delay.code_gender[df_delay.code_gender == 'M'].count()\n",
    "\n",
    "print(f\"Среди этих клиентов {round((male_count * 100)/ df_delay.shape[0], 0)} % - мужчин.\")"
   ]
  },
  {
   "cell_type": "markdown",
   "metadata": {
    "colab": {},
    "colab_type": "code",
    "id": "DhIc9RPhLx6D"
   },
   "source": [
    "**Выберите верный ответ на основании расчетов выше:**<br>\n",
    "4) все три утверждения выше неверны"
   ]
  }
 ],
 "metadata": {
  "colab": {
   "collapsed_sections": [],
   "name": "qiwi_student_case.ipynb",
   "provenance": []
  },
  "kernelspec": {
   "display_name": "Python 3",
   "language": "python",
   "name": "python3"
  },
  "language_info": {
   "codemirror_mode": {
    "name": "ipython",
    "version": 3
   },
   "file_extension": ".py",
   "mimetype": "text/x-python",
   "name": "python",
   "nbconvert_exporter": "python",
   "pygments_lexer": "ipython3",
   "version": "3.7.4"
  }
 },
 "nbformat": 4,
 "nbformat_minor": 1
}
